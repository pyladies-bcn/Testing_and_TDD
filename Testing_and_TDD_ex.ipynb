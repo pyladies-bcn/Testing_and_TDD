{
 "cells": [
  {
   "cell_type": "markdown",
   "metadata": {
    "slideshow": {
     "slide_type": "slide"
    }
   },
   "source": [
    "# EJERCICIO 1: \n",
    "##Generador de Anagramas"
   ]
  },
  {
   "cell_type": "markdown",
   "metadata": {
    "slideshow": {
     "slide_type": "subslide"
    }
   },
   "source": [
    "El ejercicio consiste en crear una función que dada una cadena de caracteres, por ejemplo **'abc'** nos devuelva todos sus posibles anagramas.\n",
    "\n",
    "**INPUT: 'abc'**  \n",
    "**OPTPUT: ['abc', 'acb', 'bac', 'bca', 'cab', 'cba']**\n",
    "\n",
    "Antes de poneros manos a la obra recordad en pensar el caso mas sencillo (BABY STEPS) y pensad bien los test. Si los pensáis bien seguramente casi no los tendréis que modificar (o muy poco) en toda la sesión. "
   ]
  },
  {
   "cell_type": "markdown",
   "metadata": {
    "slideshow": {
     "slide_type": "subslide"
    }
   },
   "source": [
    "##Veamos vuestros primeros \"BABY STEPS\":"
   ]
  },
  {
   "cell_type": "code",
   "execution_count": 1,
   "metadata": {
    "collapsed": false,
    "slideshow": {
     "slide_type": "fragment"
    }
   },
   "outputs": [
    {
     "name": "stdout",
     "output_type": "stream",
     "text": [
      "Overwriting anagram.py\n"
     ]
    }
   ],
   "source": [
    "%%writefile anagram.py\n",
    "def anagramize(word): \n",
    "    pass"
   ]
  },
  {
   "cell_type": "markdown",
   "metadata": {
    "slideshow": {
     "slide_type": "fragment"
    }
   },
   "source": [
    "###A partir de nuestra función inicial pensemos en el test más básico que deberia pasar?"
   ]
  },
  {
   "cell_type": "code",
   "execution_count": 2,
   "metadata": {
    "collapsed": false,
    "slideshow": {
     "slide_type": "subslide"
    }
   },
   "outputs": [
    {
     "name": "stdout",
     "output_type": "stream",
     "text": [
      "Overwriting test_anagram.py\n"
     ]
    }
   ],
   "source": [
    "%%writefile test_anagram.py\n",
    "import unittest\n",
    "import anagram\n",
    "\n",
    "class TestAnagrams(unittest.TestCase):\n",
    "    \n",
    "    def test_anagramize_empty(self):\n",
    "        \n",
    "            '''Tests anagrams for empty string'''\n",
    "            self.assertEqual([''], anagram.anagramize(''))\n",
    "            \n",
    "if __name__ == '__main__':\n",
    "    unittest.main()"
   ]
  },
  {
   "cell_type": "code",
   "execution_count": 3,
   "metadata": {
    "collapsed": false,
    "slideshow": {
     "slide_type": "subslide"
    }
   },
   "outputs": [
    {
     "name": "stdout",
     "output_type": "stream",
     "text": [
      "F\r\n",
      "======================================================================\r\n",
      "FAIL: test_anagramize_empty (__main__.TestAnagrams)\r\n",
      "Tests anagrams for empty string\r\n",
      "----------------------------------------------------------------------\r\n",
      "Traceback (most recent call last):\r\n",
      "  File \"test_anagram.py\", line 9, in test_anagramize_empty\r\n",
      "    self.assertEqual([''], anagram.anagramize(''))\r\n",
      "AssertionError: [''] != None\r\n",
      "\r\n",
      "----------------------------------------------------------------------\r\n",
      "Ran 1 test in 0.000s\r\n",
      "\r\n",
      "FAILED (failures=1)\r\n"
     ]
    }
   ],
   "source": [
    "!python test_anagram.py "
   ]
  },
  {
   "cell_type": "markdown",
   "metadata": {
    "slideshow": {
     "slide_type": "fragment"
    }
   },
   "source": [
    "##Todo empieza aquí, con un test ROTO (semáforo ROJO)"
   ]
  },
  {
   "cell_type": "markdown",
   "metadata": {
    "slideshow": {
     "slide_type": "subslide"
    }
   },
   "source": [
    "##Cuál debe ser el próximo paso?"
   ]
  },
  {
   "cell_type": "code",
   "execution_count": 4,
   "metadata": {
    "collapsed": false,
    "slideshow": {
     "slide_type": "fragment"
    }
   },
   "outputs": [
    {
     "name": "stdout",
     "output_type": "stream",
     "text": [
      "Overwriting anagram.py\n"
     ]
    }
   ],
   "source": [
    "%%writefile anagram.py\n",
    "def anagramize(word): \n",
    "    return ['']"
   ]
  },
  {
   "cell_type": "markdown",
   "metadata": {
    "slideshow": {
     "slide_type": "subslide"
    }
   },
   "source": [
    "##Volvemos a correr el test anterior"
   ]
  },
  {
   "cell_type": "code",
   "execution_count": 5,
   "metadata": {
    "collapsed": false,
    "slideshow": {
     "slide_type": "fragment"
    }
   },
   "outputs": [
    {
     "name": "stdout",
     "output_type": "stream",
     "text": [
      ".\r\n",
      "----------------------------------------------------------------------\r\n",
      "Ran 1 test in 0.000s\r\n",
      "\r\n",
      "OK\r\n"
     ]
    }
   ],
   "source": [
    "!python test_anagram.py "
   ]
  },
  {
   "cell_type": "markdown",
   "metadata": {
    "slideshow": {
     "slide_type": "fragment"
    }
   },
   "source": [
    "##Perfecto! Ya estamos en semáforo VERDE!"
   ]
  },
  {
   "cell_type": "markdown",
   "metadata": {
    "slideshow": {
     "slide_type": "subslide"
    }
   },
   "source": [
    "#Cuál creéis que es el próximo paso lógico?"
   ]
  },
  {
   "cell_type": "markdown",
   "metadata": {
    "slideshow": {
     "slide_type": "fragment"
    }
   },
   "source": [
    "##Añadir un nuevo test que rompa la solución actual"
   ]
  },
  {
   "cell_type": "code",
   "execution_count": 6,
   "metadata": {
    "collapsed": false,
    "slideshow": {
     "slide_type": "fragment"
    }
   },
   "outputs": [
    {
     "name": "stdout",
     "output_type": "stream",
     "text": [
      "Overwriting test_anagram.py\n"
     ]
    }
   ],
   "source": [
    "%%writefile test_anagram.py\n",
    "import unittest\n",
    "import anagram\n",
    "\n",
    "class TestAnagrams(unittest.TestCase):\n",
    "    \n",
    "    def test_anagramize_empty(self):\n",
    "            '''Tests anagrams for empty string'''\n",
    "            self.assertEqual([''], anagram.anagramize(''))\n",
    "\n",
    "    def test_anagramize_1_char(self):\n",
    "            '''Tests anagrams for 1 char length string'''\n",
    "            self.assertEqual(['a'], anagram.anagramize('a'))\n",
    "            \n",
    "if __name__ == '__main__':\n",
    "    unittest.main()"
   ]
  },
  {
   "cell_type": "markdown",
   "metadata": {
    "slideshow": {
     "slide_type": "subslide"
    }
   },
   "source": [
    "##Volvemos a correr el test"
   ]
  },
  {
   "cell_type": "code",
   "execution_count": 7,
   "metadata": {
    "collapsed": false,
    "slideshow": {
     "slide_type": "fragment"
    }
   },
   "outputs": [
    {
     "name": "stdout",
     "output_type": "stream",
     "text": [
      "F.\r\n",
      "======================================================================\r\n",
      "FAIL: test_anagramize_1_char (__main__.TestAnagrams)\r\n",
      "Tests anagrams for 1 char length string\r\n",
      "----------------------------------------------------------------------\r\n",
      "Traceback (most recent call last):\r\n",
      "  File \"test_anagram.py\", line 12, in test_anagramize_1_char\r\n",
      "    self.assertEqual(['a'], anagram.anagramize('a'))\r\n",
      "AssertionError: Lists differ: ['a'] != ['']\r\n",
      "\r\n",
      "First differing element 0:\r\n",
      "a\r\n",
      "\r\n",
      "\r\n",
      "- ['a']\r\n",
      "?   -\r\n",
      "\r\n",
      "+ ['']\r\n",
      "\r\n",
      "----------------------------------------------------------------------\r\n",
      "Ran 2 tests in 0.001s\r\n",
      "\r\n",
      "FAILED (failures=1)\r\n"
     ]
    }
   ],
   "source": [
    "!python test_anagram.py"
   ]
  },
  {
   "cell_type": "markdown",
   "metadata": {
    "slideshow": {
     "slide_type": "subslide"
    }
   },
   "source": [
    "**Ahora os toca a vosotros. **   \n",
    "\n",
    "Debéis arreglar el código para pasar el test.  \n",
    "Realizad los pasos para que nuestra función retorne correctamente el anagrama para palabras de longitud = 1 (con los test correspondientes)."
   ]
  },
  {
   "cell_type": "code",
   "execution_count": 8,
   "metadata": {
    "collapsed": false,
    "slideshow": {
     "slide_type": "subslide"
    }
   },
   "outputs": [
    {
     "name": "stdout",
     "output_type": "stream",
     "text": [
      "Overwriting anagram.py\n"
     ]
    }
   ],
   "source": [
    "%%writefile anagram.py\n",
    "def anagramize(word): \n",
    "    return [word]"
   ]
  },
  {
   "cell_type": "markdown",
   "metadata": {
    "slideshow": {
     "slide_type": "subslide"
    }
   },
   "source": [
    "#DUDAS? PREGUNTAS?"
   ]
  },
  {
   "cell_type": "markdown",
   "metadata": {
    "slideshow": {
     "slide_type": "subslide"
    }
   },
   "source": [
    "##Vamos un paso más allá, un test para 2 carácteres."
   ]
  },
  {
   "cell_type": "code",
   "execution_count": 9,
   "metadata": {
    "collapsed": false,
    "slideshow": {
     "slide_type": "fragment"
    }
   },
   "outputs": [
    {
     "name": "stdout",
     "output_type": "stream",
     "text": [
      "Overwriting test_anagram.py\n"
     ]
    }
   ],
   "source": [
    "%%writefile test_anagram.py\n",
    "import unittest\n",
    "import anagram\n",
    "\n",
    "class TestAnagrams(unittest.TestCase):\n",
    "    \n",
    "    def test_anagramize_empty(self):\n",
    "            '''Tests anagrams for empty string'''\n",
    "            self.assertEqual([''], anagram.anagramize(''))\n",
    "\n",
    "    def test_anagramize_1_char(self):\n",
    "            '''Tests anagrams for 1 char length string'''\n",
    "            self.assertEqual(['a'], anagram.anagramize('a'))\n",
    "\n",
    "    def test_anagramize_2_chars(self):\n",
    "            '''Tests anagrams for 2 char lenght string'''\n",
    "            self.assertEqual(['ab', 'ba'], anagram.anagramize('ab'))\n",
    "            \n",
    "if __name__ == '__main__':\n",
    "    unittest.main()"
   ]
  },
  {
   "cell_type": "code",
   "execution_count": 10,
   "metadata": {
    "collapsed": false,
    "slideshow": {
     "slide_type": "subslide"
    }
   },
   "outputs": [
    {
     "name": "stdout",
     "output_type": "stream",
     "text": [
      ".F.\r\n",
      "======================================================================\r\n",
      "FAIL: test_anagramize_2_chars (__main__.TestAnagrams)\r\n",
      "Tests anagrams for 2 char lenght string\r\n",
      "----------------------------------------------------------------------\r\n",
      "Traceback (most recent call last):\r\n",
      "  File \"test_anagram.py\", line 16, in test_anagramize_2_chars\r\n",
      "    self.assertEqual(['ab', 'ba'], anagram.anagramize('ab'))\r\n",
      "AssertionError: Lists differ: ['ab', 'ba'] != ['ab']\r\n",
      "\r\n",
      "First list contains 1 additional elements.\r\n",
      "First extra element 1:\r\n",
      "ba\r\n",
      "\r\n",
      "- ['ab', 'ba']\r\n",
      "+ ['ab']\r\n",
      "\r\n",
      "----------------------------------------------------------------------\r\n",
      "Ran 3 tests in 0.001s\r\n",
      "\r\n",
      "FAILED (failures=1)\r\n"
     ]
    }
   ],
   "source": [
    "!python test_anagram.py"
   ]
  },
  {
   "cell_type": "markdown",
   "metadata": {
    "slideshow": {
     "slide_type": "subslide"
    }
   },
   "source": [
    "**Ahora os toca a vosotros. **   \n",
    "\n",
    "Debéis modificar el código para pasar el test.  \n",
    "Creéis que se puede mejorar el test? Le véis algún fallo?"
   ]
  },
  {
   "cell_type": "markdown",
   "metadata": {
    "slideshow": {
     "slide_type": "subslide"
    }
   },
   "source": [
    "#DUDAS? PREGUNTAS?"
   ]
  },
  {
   "cell_type": "markdown",
   "metadata": {
    "slideshow": {
     "slide_type": "subslide"
    }
   },
   "source": [
    "##Cómo deberíamos seguir para obtener el anagrama de una palabra de 3 carácteres?"
   ]
  },
  {
   "cell_type": "markdown",
   "metadata": {
    "slideshow": {
     "slide_type": "fragment"
    }
   },
   "source": [
    "###Ejem, pero sin utilizar librerias extras"
   ]
  },
  {
   "cell_type": "markdown",
   "metadata": {
    "slideshow": {
     "slide_type": "subslide"
    }
   },
   "source": [
    "##Veamos una posible solución al problema ..."
   ]
  },
  {
   "cell_type": "markdown",
   "metadata": {
    "slideshow": {
     "slide_type": "fragment"
    }
   },
   "source": [
    "Aviso que la podemos llamar solución a \"Pico y Pala\", pero funciona!!"
   ]
  },
  {
   "cell_type": "code",
   "execution_count": 11,
   "metadata": {
    "collapsed": false,
    "slideshow": {
     "slide_type": "fragment"
    }
   },
   "outputs": [
    {
     "name": "stdout",
     "output_type": "stream",
     "text": [
      "Overwriting anagram.py\n"
     ]
    }
   ],
   "source": [
    "%%writefile anagram.py\n",
    "def anagramize(word): \n",
    "    if len(word) < 2: \n",
    "        return [word] \n",
    "    \n",
    "    elif len(word) < 3: \n",
    "        return [word, word[::-1]] \n",
    "    \n",
    "    else: \n",
    "        return [ word, \n",
    "                word[0] + word[2] + word[1], \n",
    "                word[1] + word[0] + word[2], \n",
    "                word[1] + word[2] + word[0], \n",
    "                word[2] + word[0] + word[1], \n",
    "                word[::-1]]"
   ]
  },
  {
   "cell_type": "code",
   "execution_count": 12,
   "metadata": {
    "collapsed": false,
    "slideshow": {
     "slide_type": "subslide"
    }
   },
   "outputs": [
    {
     "name": "stdout",
     "output_type": "stream",
     "text": [
      "Overwriting test_anagram.py\n"
     ]
    }
   ],
   "source": [
    "%%writefile test_anagram.py\n",
    "import unittest\n",
    "import anagram\n",
    "\n",
    "class TestAnagrams(unittest.TestCase):\n",
    "    \n",
    "    def test_anagramize_empty(self):\n",
    "            '''Tests anagrams for empty string'''\n",
    "            self.assertEqual([''], anagram.anagramize(''))\n",
    "\n",
    "    def test_anagramize_1_char(self):\n",
    "            '''Tests anagrams for 1 char length string'''\n",
    "            self.assertEqual(['a'], anagram.anagramize('a'))\n",
    "\n",
    "    def test_anagramize_2_chars(self):\n",
    "            '''Tests anagrams for 2 char lenght string'''\n",
    "            self.assertEqual(['ab', 'ba'], anagram.anagramize('ab'))\n",
    "    \n",
    "    def test_anagramize_3_chars(self):\n",
    "        self.assertEqual(6,len(set(anagram.anagramize('abc'))))\n",
    "        for word in anagram.anagramize('abc'):\n",
    "            self.assertEqual(3,len(word))\n",
    "            for char in set('abc'):\n",
    "                self.assertIn(char,word)\n",
    "                \n",
    "if __name__ == '__main__':\n",
    "    unittest.main()"
   ]
  },
  {
   "cell_type": "code",
   "execution_count": 13,
   "metadata": {
    "collapsed": false,
    "slideshow": {
     "slide_type": "fragment"
    }
   },
   "outputs": [
    {
     "name": "stdout",
     "output_type": "stream",
     "text": [
      "....\r\n",
      "----------------------------------------------------------------------\r\n",
      "Ran 4 tests in 0.000s\r\n",
      "\r\n",
      "OK\r\n"
     ]
    }
   ],
   "source": [
    "!python test_anagram.py"
   ]
  },
  {
   "cell_type": "markdown",
   "metadata": {
    "slideshow": {
     "slide_type": "fragment"
    }
   },
   "source": [
    "####NO ES UNA SOLUCION ELEGANTE PERO FUNCIONA Y PASA LOS TEST!!"
   ]
  },
  {
   "cell_type": "markdown",
   "metadata": {
    "slideshow": {
     "slide_type": "subslide"
    }
   },
   "source": [
    "**Ahora os toca a vosotros. **   \n",
    "\n",
    "Os atrevéis a llegar a la solución para cadenas de hasta longitud = 5 ?  "
   ]
  },
  {
   "cell_type": "markdown",
   "metadata": {
    "slideshow": {
     "slide_type": "subslide"
    }
   },
   "source": [
    "#DUDAS? PREGUNTAS?"
   ]
  },
  {
   "cell_type": "markdown",
   "metadata": {
    "slideshow": {
     "slide_type": "subslide"
    }
   },
   "source": [
    "##Veamos algunas posibles soluciones"
   ]
  },
  {
   "cell_type": "markdown",
   "metadata": {
    "slideshow": {
     "slide_type": "subslide"
    }
   },
   "source": [
    "###Utilizando funciones recursivas"
   ]
  },
  {
   "cell_type": "code",
   "execution_count": 14,
   "metadata": {
    "collapsed": false,
    "slideshow": {
     "slide_type": "skip"
    }
   },
   "outputs": [
    {
     "name": "stdout",
     "output_type": "stream",
     "text": [
      "Overwriting anagram.py\n"
     ]
    }
   ],
   "source": [
    "%%writefile anagram.py\n",
    "def anagramize(word):\n",
    "    anagrams = []\n",
    "    \n",
    "    if len(word) < 2:\n",
    "        anagrams = [word]\n",
    "        \n",
    "    else:\n",
    "        for i,char in enumerate(word):\n",
    "            for perm in anagramize(word[:i]+word[i+1:]):\n",
    "                anagrams += [char + perm]\n",
    "                \n",
    "    return anagrams"
   ]
  },
  {
   "cell_type": "code",
   "execution_count": 15,
   "metadata": {
    "collapsed": true,
    "slideshow": {
     "slide_type": "fragment"
    }
   },
   "outputs": [],
   "source": [
    "# %load anagram.py\n",
    "def anagramize(word):\n",
    "    anagrams = []\n",
    "    \n",
    "    if len(word) < 2:\n",
    "        anagrams = [word]\n",
    "        \n",
    "    else:\n",
    "        for i,char in enumerate(word):\n",
    "            for perm in anagramize(word[:i]+word[i+1:]):\n",
    "                anagrams += [char + perm]\n",
    "                \n",
    "    return anagrams"
   ]
  },
  {
   "cell_type": "code",
   "execution_count": 16,
   "metadata": {
    "collapsed": false,
    "slideshow": {
     "slide_type": "fragment"
    }
   },
   "outputs": [
    {
     "data": {
      "text/plain": [
       "['abc', 'acb', 'bac', 'bca', 'cab', 'cba']"
      ]
     },
     "execution_count": 16,
     "metadata": {},
     "output_type": "execute_result"
    }
   ],
   "source": [
    "anagramize('abc')"
   ]
  },
  {
   "cell_type": "markdown",
   "metadata": {
    "slideshow": {
     "slide_type": "subslide"
    }
   },
   "source": [
    "###Utilizando generadores"
   ]
  },
  {
   "cell_type": "code",
   "execution_count": 17,
   "metadata": {
    "collapsed": false,
    "slideshow": {
     "slide_type": "skip"
    }
   },
   "outputs": [
    {
     "name": "stdout",
     "output_type": "stream",
     "text": [
      "Overwriting anagram_gen.py\n"
     ]
    }
   ],
   "source": [
    "%%writefile anagram_gen.py\n",
    "def anagramize(word):\n",
    "    \n",
    "    if len(word) < 2:\n",
    "        yield word\n",
    "        \n",
    "    else:\n",
    "        for perm in anagramize(word[1:]):\n",
    "            for i in range(len(word)):\n",
    "                yield perm[:i] + word[0:1] + perm[i:]"
   ]
  },
  {
   "cell_type": "code",
   "execution_count": 18,
   "metadata": {
    "collapsed": false,
    "slideshow": {
     "slide_type": "fragment"
    }
   },
   "outputs": [],
   "source": [
    "# %load anagram_gen.py\n",
    "def anagramize(word):\n",
    "    \n",
    "    if len(word) < 2:\n",
    "        yield word\n",
    "        \n",
    "    else:\n",
    "        for perm in anagramize(word[1:]):\n",
    "            for i in range(len(word)):\n",
    "                yield perm[:i] + word[0:1] + perm[i:]"
   ]
  },
  {
   "cell_type": "code",
   "execution_count": 19,
   "metadata": {
    "collapsed": false,
    "slideshow": {
     "slide_type": "fragment"
    }
   },
   "outputs": [
    {
     "name": "stdout",
     "output_type": "stream",
     "text": [
      "['abc', 'bac', 'bca', 'acb', 'cab', 'cba']\n"
     ]
    }
   ],
   "source": [
    "print [i for i in anagramize('abc')]"
   ]
  },
  {
   "cell_type": "code",
   "execution_count": 20,
   "metadata": {
    "collapsed": false,
    "slideshow": {
     "slide_type": "fragment"
    }
   },
   "outputs": [
    {
     "data": {
      "text/plain": [
       "['abc', 'bac', 'bca', 'acb', 'cab', 'cba']"
      ]
     },
     "execution_count": 20,
     "metadata": {},
     "output_type": "execute_result"
    }
   ],
   "source": [
    "list(anagramize('abc'))"
   ]
  },
  {
   "cell_type": "code",
   "execution_count": 21,
   "metadata": {
    "collapsed": false,
    "slideshow": {
     "slide_type": "fragment"
    }
   },
   "outputs": [
    {
     "data": {
      "text/plain": [
       "'abc'"
      ]
     },
     "execution_count": 21,
     "metadata": {},
     "output_type": "execute_result"
    }
   ],
   "source": [
    "f=anagramize('abc')\n",
    "f.next()"
   ]
  },
  {
   "cell_type": "code",
   "execution_count": 22,
   "metadata": {
    "collapsed": false,
    "slideshow": {
     "slide_type": "fragment"
    }
   },
   "outputs": [
    {
     "data": {
      "text/plain": [
       "'bac'"
      ]
     },
     "execution_count": 22,
     "metadata": {},
     "output_type": "execute_result"
    }
   ],
   "source": [
    "f.next()"
   ]
  },
  {
   "cell_type": "markdown",
   "metadata": {
    "slideshow": {
     "slide_type": "subslide"
    }
   },
   "source": [
    "##Veamos un posible SUPER test"
   ]
  },
  {
   "cell_type": "code",
   "execution_count": 23,
   "metadata": {
    "collapsed": false,
    "slideshow": {
     "slide_type": "fragment"
    }
   },
   "outputs": [
    {
     "name": "stdout",
     "output_type": "stream",
     "text": [
      "Overwriting test_anagram.py\n"
     ]
    }
   ],
   "source": [
    "%%writefile test_anagram.py\n",
    "import unittest\n",
    "import anagram as anam\n",
    "from math import factorial\n",
    "from string import ascii_lowercase\n",
    "from random import sample\n",
    "\n",
    "class TestAnagrams(unittest.TestCase):\n",
    "    \n",
    "    def test_anagramize_empty(self):\n",
    "            '''Tests anagrams for empty string'''\n",
    "            self.assertEqual([''], anam.anagramize(''))\n",
    "\n",
    "    def test_anagramize_1_char(self):\n",
    "            '''Tests anagrams for 1 char length string'''\n",
    "            self.assertEqual(['a'], anam.anagramize('a'))\n",
    "\n",
    "    def test_anagramize_2_chars(self):\n",
    "            '''Tests anagrams for 2 char lenght string'''\n",
    "            self.assertEqual(['ab', 'ba'], anam.anagramize('ab'))\n",
    "    \n",
    "    def test_anagramize_3_chars(self):\n",
    "            '''Tests anagrams for 2 char lenght string'''\n",
    "            self.assertEqual(6,len(set(anam.anagramize('abc')))) \n",
    "            \n",
    "            for word in anam.anagramize('abc'):\n",
    "                self.assertEqual(3,len(word))\n",
    "                for char in set('abc'):\n",
    "                    self.assertIn(char,word)\n",
    "    \n",
    "    def test_anagramize_variable_length(self):\n",
    "        \n",
    "        '''Tests anagrams for variable lenght string'''\n",
    "        alphabet = ascii_lowercase\n",
    "        \n",
    "        for length in range(3, 6):\n",
    "            \n",
    "            word = ''.join(sample(alphabet, length))\n",
    "            anagrams = anam.anagramize(word)\n",
    "            anagrams_no = factorial(length)\n",
    "            self.assertEqual(anagrams_no, len(set(anagrams)))\n",
    "            \n",
    "            for anagram in anagrams:\n",
    "                self.assertEqual(length, len(anagram))\n",
    "                for char in set(word):\n",
    "                    self.assertIn(char, anagram)\n",
    "                    \n",
    "if __name__ == '__main__':\n",
    "    unittest.main()"
   ]
  },
  {
   "cell_type": "code",
   "execution_count": 24,
   "metadata": {
    "collapsed": false,
    "slideshow": {
     "slide_type": "fragment"
    }
   },
   "outputs": [
    {
     "name": "stdout",
     "output_type": "stream",
     "text": [
      ".....\n",
      "----------------------------------------------------------------------\n",
      "Ran 5 tests in 0.003s\n",
      "\n",
      "OK\n"
     ]
    }
   ],
   "source": [
    "!python test_anagram.py"
   ]
  },
  {
   "cell_type": "markdown",
   "metadata": {
    "slideshow": {
     "slide_type": "subslide"
    }
   },
   "source": [
    "#DUDAS? PREGUNTAS?"
   ]
  },
  {
   "cell_type": "markdown",
   "metadata": {
    "slideshow": {
     "slide_type": "subslide"
    }
   },
   "source": [
    "#EJERCICIO 2: \n",
    "##NÚMEROS ROMANOS\n"
   ]
  },
  {
   "cell_type": "markdown",
   "metadata": {
    "slideshow": {
     "slide_type": "subslide"
    }
   },
   "source": [
    "El ejercicio consiste en crear una función que dada una cadena de caracteres correspondiente a un número romano, por ejemplo **'VII'** nos devuelva su equivalente en número decimal.\n",
    "\n",
    "**INPUT: 'VII'**  \n",
    "**OPTPUT: 7**\n",
    "\n",
    "Recordemos las equivalencias de los números romanos:  \n",
    "'I' = 1,'V' = 5,'X' = 10,'L' = 50,'C'= 100,'D'= 500,'M'= 1000"
   ]
  },
  {
   "cell_type": "markdown",
   "metadata": {
    "slideshow": {
     "slide_type": "subslide"
    }
   },
   "source": [
    "##Veamos una posible solución..."
   ]
  },
  {
   "cell_type": "code",
   "execution_count": 25,
   "metadata": {
    "collapsed": false,
    "slideshow": {
     "slide_type": "fragment"
    }
   },
   "outputs": [
    {
     "name": "stdout",
     "output_type": "stream",
     "text": [
      "Overwriting test_romanos.py\n"
     ]
    }
   ],
   "source": [
    "%%writefile test_romanos.py\n",
    "import unittest\n",
    "import romanos as rom\n",
    "\n",
    "class Test(unittest.TestCase):\n",
    "    \n",
    "    def test_1char_strings(self):\n",
    "        \n",
    "        self.assertEqual(rom.get_number('I'),1)\n",
    "        self.assertEqual(rom.get_number('V'),5)\n",
    "        self.assertEqual(rom.get_number('C'),100)\n",
    "    \n",
    "    def test_2char_strings(self):\n",
    "        \n",
    "        self.assertEqual(rom.get_number('II'),2)\n",
    "        self.assertEqual(rom.get_number('VI'),6)\n",
    "        self.assertEqual(rom.get_number('XII'),12)\n",
    "        self.assertEqual(rom.get_number('IX'),9)\n",
    "        \n",
    "    def test_large_numbers(self):\n",
    "        \n",
    "        self.assertEqual(rom.get_number('MCMXCIX'),1999)\n",
    "        self.assertEqual(rom.get_number('DLIV'),554)\n",
    "        \n",
    "    def test_error_input(self):\n",
    "        \n",
    "        self.assertEqual(rom.get_number(''),0)\n",
    "\n",
    "if __name__ == '__main__':\n",
    "    unittest.main()"
   ]
  },
  {
   "cell_type": "code",
   "execution_count": 26,
   "metadata": {
    "collapsed": false,
    "slideshow": {
     "slide_type": "subslide"
    }
   },
   "outputs": [
    {
     "name": "stdout",
     "output_type": "stream",
     "text": [
      "Overwriting romanos.py\n"
     ]
    }
   ],
   "source": [
    "%%writefile romanos.py\n",
    "r2d = {'I':1,'V':5,'X':10,'L':50,'C':100,'D':500,'M':1000}\n",
    "\n",
    "def get_number(string):\n",
    "    \"\"\"\n",
    "        Giving a roman string number return \n",
    "    \"\"\"\n",
    "    if len(string) <= 1:\n",
    "        if string in r2d.keys():\n",
    "            return r2d[string]\n",
    "        else:\n",
    "            return 0\n",
    "        \n",
    "    else:\n",
    "        total = 0\n",
    "        \n",
    "        for i in range(len(string)-1):\n",
    "            if r2d[string[i]] < r2d[string[i+1]]:\n",
    "                total -= r2d[string[i]]\n",
    "            else:    \n",
    "                total += r2d[string[i]]\n",
    "            \n",
    "        total += r2d[string[-1]]\n",
    "        \n",
    "        return total"
   ]
  },
  {
   "cell_type": "code",
   "execution_count": 27,
   "metadata": {
    "collapsed": false,
    "slideshow": {
     "slide_type": "fragment"
    }
   },
   "outputs": [
    {
     "name": "stdout",
     "output_type": "stream",
     "text": [
      "....\r\n",
      "----------------------------------------------------------------------\r\n",
      "Ran 4 tests in 0.000s\r\n",
      "\r\n",
      "OK\r\n"
     ]
    }
   ],
   "source": [
    "!python test_romanos.py"
   ]
  },
  {
   "cell_type": "code",
   "execution_count": 28,
   "metadata": {
    "collapsed": false,
    "scrolled": true,
    "slideshow": {
     "slide_type": "skip"
    }
   },
   "outputs": [
    {
     "name": "stdout",
     "output_type": "stream",
     "text": [
      "[NbConvertApp] Converting notebook Testing_and_TDD_ex.ipynb to slides\n",
      "[NbConvertApp] Writing 242862 bytes to Testing_and_TDD_ex.slides.html\n",
      "[NbConvertApp] Redirecting reveal.js requests to https://cdn.jsdelivr.net/reveal.js/2.6.2\n",
      "Traceback (most recent call last):\n",
      "  File \"/home/nuria/miniconda/bin/ipython\", line 6, in <module>\n",
      "    sys.exit(start_ipython())\n",
      "  File \"/home/nuria/miniconda/lib/python2.7/site-packages/IPython/__init__.py\", line 120, in start_ipython\n",
      "    return launch_new_instance(argv=argv, **kwargs)\n",
      "  File \"/home/nuria/miniconda/lib/python2.7/site-packages/IPython/config/application.py\", line 574, in launch_instance\n",
      "    app.start()\n",
      "  File \"/home/nuria/miniconda/lib/python2.7/site-packages/IPython/terminal/ipapp.py\", line 367, in start\n",
      "    return self.subapp.start()\n",
      "  File \"/home/nuria/miniconda/lib/python2.7/site-packages/IPython/nbconvert/nbconvertapp.py\", line 278, in start\n",
      "    self.convert_notebooks()\n",
      "  File \"/home/nuria/miniconda/lib/python2.7/site-packages/IPython/nbconvert/nbconvertapp.py\", line 401, in convert_notebooks\n",
      "    self.convert_single_notebook(notebook_filename)\n",
      "  File \"/home/nuria/miniconda/lib/python2.7/site-packages/IPython/nbconvert/nbconvertapp.py\", line 374, in convert_single_notebook\n",
      "    self.postprocess_single_notebook(write_results)\n",
      "  File \"/home/nuria/miniconda/lib/python2.7/site-packages/IPython/nbconvert/nbconvertapp.py\", line 359, in postprocess_single_notebook\n",
      "    self.postprocessor(write_results)\n",
      "  File \"/home/nuria/miniconda/lib/python2.7/site-packages/IPython/nbconvert/postprocessors/base.py\", line 28, in __call__\n",
      "    self.postprocess(input)\n",
      "  File \"/home/nuria/miniconda/lib/python2.7/site-packages/IPython/nbconvert/postprocessors/serve.py\", line 87, in postprocess\n",
      "    http_server.listen(self.port, address=self.ip)\n",
      "  File \"/home/nuria/miniconda/lib/python2.7/site-packages/tornado/tcpserver.py\", line 125, in listen\n",
      "    sockets = bind_sockets(port, address=address)\n",
      "  File \"/home/nuria/miniconda/lib/python2.7/site-packages/tornado/netutil.py\", line 145, in bind_sockets\n",
      "    sock.bind(sockaddr)\n",
      "  File \"/home/nuria/miniconda/lib/python2.7/socket.py\", line 224, in meth\n",
      "    return getattr(self._sock,name)(*args)\n",
      "error: [Errno 98] Address already in use\n",
      "\n",
      "If you suspect this is an IPython bug, please report it at:\n",
      "    https://github.com/ipython/ipython/issues\n",
      "or send an email to the mailing list at ipython-dev@scipy.org\n",
      "\n",
      "You can print a more detailed traceback right now with \"%tb\", or use \"%debug\"\n",
      "to interactively debug it.\n",
      "\n",
      "Extra-detailed tracebacks for bug-reporting purposes can be enabled via:\n",
      "    c.Application.verbose_crash=True\n",
      "\n"
     ]
    }
   ],
   "source": [
    "!ipython nbconvert --to slides Testing_and_TDD_ex --post serve"
   ]
  },
  {
   "cell_type": "code",
   "execution_count": null,
   "metadata": {
    "collapsed": true,
    "slideshow": {
     "slide_type": "skip"
    }
   },
   "outputs": [],
   "source": []
  }
 ],
 "metadata": {
  "celltoolbar": "Slideshow",
  "kernelspec": {
   "display_name": "Python 2",
   "language": "python",
   "name": "python2"
  },
  "language_info": {
   "codemirror_mode": {
    "name": "ipython",
    "version": 2
   },
   "file_extension": ".py",
   "mimetype": "text/x-python",
   "name": "python",
   "nbconvert_exporter": "python",
   "pygments_lexer": "ipython2",
   "version": "2.7.9"
  }
 },
 "nbformat": 4,
 "nbformat_minor": 0
}
